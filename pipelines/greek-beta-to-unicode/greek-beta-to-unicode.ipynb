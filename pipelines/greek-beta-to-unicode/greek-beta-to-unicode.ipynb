{
 "cells": [
  {
   "cell_type": "code",
   "execution_count": 1,
   "id": "8dca48c6",
   "metadata": {
    "ExecuteTime": {
     "end_time": "2022-04-04T08:37:30.424311Z",
     "start_time": "2022-04-04T08:37:20.963753Z"
    }
   },
   "outputs": [],
   "source": [
    "# pip install lxml\n",
    "# pip install betacode\n",
    "# pip install pygtrie\n",
    "\n",
    "import betacode.conv\n",
    "from lxml import etree\n",
    "\n",
    "path = \"../../sources/Clear/annotations/annotations.xml\" \n",
    "xml_etree = etree.parse(path)\n",
    "xml_root = xml_etree.getroot()\n",
    "\n",
    "for n in xml_root.xpath(f\".//*[@Greek]\"):\n",
    "    greek = n.attrib[\"Greek\"]\n",
    "    n.attrib[\"Greek\"] = betacode.conv.beta_to_uni(greek)\n",
    "\n",
    "if __name__ = \"__main__\":\n",
    "    xml_etree.write(path, encoding=\"utf-8\")"
   ]
  }
 ],
 "metadata": {
  "kernelspec": {
   "display_name": "Python 3 (ipykernel)",
   "language": "python",
   "name": "python3"
  },
  "language_info": {
   "codemirror_mode": {
    "name": "ipython",
    "version": 3
   },
   "file_extension": ".py",
   "mimetype": "text/x-python",
   "name": "python",
   "nbconvert_exporter": "python",
   "pygments_lexer": "ipython3",
   "version": "3.9.7"
  },
  "latex_envs": {
   "LaTeX_envs_menu_present": true,
   "autoclose": false,
   "autocomplete": true,
   "bibliofile": "biblio.bib",
   "cite_by": "apalike",
   "current_citInitial": 1,
   "eqLabelWithNumbers": true,
   "eqNumInitial": 1,
   "hotkeys": {
    "equation": "Ctrl-E",
    "itemize": "Ctrl-I"
   },
   "labels_anchors": false,
   "latex_user_defs": false,
   "report_style_numbering": false,
   "user_envs_cfg": false
  }
 },
 "nbformat": 4,
 "nbformat_minor": 5
}
