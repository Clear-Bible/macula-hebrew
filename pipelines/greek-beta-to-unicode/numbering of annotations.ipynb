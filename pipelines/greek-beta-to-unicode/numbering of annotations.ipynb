{
 "cells": [
  {
   "cell_type": "code",
   "execution_count": 3,
   "id": "d3504167",
   "metadata": {
    "ExecuteTime": {
     "end_time": "2022-04-04T09:32:37.497276Z",
     "start_time": "2022-04-04T09:32:36.252935Z"
    }
   },
   "outputs": [],
   "source": [
    "from lxml import etree\n",
    "\n",
    "annotations_path = \"../../sources/Clear/annotations/annotations.xml\" \n",
    "annotations_etree = etree.parse(annotations_path)\n",
    "annotations_root = annotations_etree.getroot()\n",
    "\n",
    "mappings_path = \"../../mappings/morpheme-mappings.xml\"\n",
    "mappings_etree = etree.parse(mappings_path)\n",
    "mappings_root = mappings_etree.getroot()"
   ]
  },
  {
   "cell_type": "code",
   "execution_count": 4,
   "id": "3e25adf1",
   "metadata": {
    "ExecuteTime": {
     "end_time": "2022-04-04T09:35:04.301883Z",
     "start_time": "2022-04-04T09:35:03.001562Z"
    }
   },
   "outputs": [],
   "source": [
    "nodes = annotations_root.xpath(f\"//node[@Frame or @SubjRef or @Ref]\")"
   ]
  },
  {
   "cell_type": "code",
   "execution_count": 122,
   "id": "aee908ac",
   "metadata": {
    "ExecuteTime": {
     "end_time": "2022-04-04T14:25:25.516802Z",
     "start_time": "2022-04-04T14:25:25.514740Z"
    }
   },
   "outputs": [],
   "source": [
    "def replace_id(morphId):\n",
    "    return mappings_dict_morphId.get(morphId, {\"oshb\": morphId})[\"oshb\"]"
   ]
  },
  {
   "cell_type": "code",
   "execution_count": 144,
   "id": "b409687f",
   "metadata": {
    "ExecuteTime": {
     "end_time": "2022-04-04T14:44:53.457409Z",
     "start_time": "2022-04-04T14:44:53.454159Z"
    }
   },
   "outputs": [
    {
     "data": {
      "text/plain": [
       "15656"
      ]
     },
     "execution_count": 144,
     "metadata": {},
     "output_type": "execute_result"
    }
   ],
   "source": [
    "count"
   ]
  },
  {
   "cell_type": "code",
   "execution_count": 146,
   "id": "e444b567",
   "metadata": {
    "ExecuteTime": {
     "end_time": "2022-04-04T14:45:47.990075Z",
     "start_time": "2022-04-04T14:45:47.978834Z"
    }
   },
   "outputs": [],
   "source": [
    "def convert_frame(frame):\n",
    "    return \"{\" + \" \".join([\n",
    "        a[:3] + \";\".join([replace_id(morph_id) for morph_id in a[3:].split(\";\")])\n",
    "        for a in frame[0][1:-1].split(\" \")\n",
    "    ]) + \"}\""
   ]
  },
  {
   "cell_type": "code",
   "execution_count": 147,
   "id": "78ef841b",
   "metadata": {
    "ExecuteTime": {
     "end_time": "2022-04-04T14:45:48.349501Z",
     "start_time": "2022-04-04T14:45:48.339329Z"
    }
   },
   "outputs": [],
   "source": [
    "def convert_ref(ref):\n",
    "    return \"{\" + \" \".join([replace_id(morph_id)\n",
    "                           for morph_id in ref[0][1:-1].split(\" \")]) + \"}\""
   ]
  },
  {
   "cell_type": "code",
   "execution_count": 148,
   "id": "0f102628",
   "metadata": {
    "ExecuteTime": {
     "end_time": "2022-04-04T14:45:56.841186Z",
     "start_time": "2022-04-04T14:45:52.357296Z"
    }
   },
   "outputs": [],
   "source": [
    "count = 0\n",
    "for n in nodes:\n",
    "    frame = n.xpath(f\"@Frame\")\n",
    "    subjref = n.xpath(f\"@SubjRef\")\n",
    "    ref = n.xpath(f\"@Ref\")\n",
    "    \n",
    "    if subjref:\n",
    "        n.attrib[\"SubjRef\"] = convert_ref(subjref)\n",
    "        if not subjref[0] == convert_ref(subjref):\n",
    "            count += 1\n",
    "    if frame:\n",
    "        n.attrib[\"Frame\"] = convert_frame(frame)\n",
    "        if not frame[0] == convert_frame(frame):\n",
    "            count += 1\n",
    "    if ref:\n",
    "        n.attrib[\"Ref\"] = convert_ref(ref)\n",
    "        if not ref[0] == convert_ref(ref):\n",
    "            count += 1"
   ]
  },
  {
   "cell_type": "code",
   "execution_count": 149,
   "id": "015e9ad0",
   "metadata": {
    "ExecuteTime": {
     "end_time": "2022-04-04T14:45:56.845036Z",
     "start_time": "2022-04-04T14:45:56.842612Z"
    }
   },
   "outputs": [
    {
     "data": {
      "text/plain": [
       "6091"
      ]
     },
     "execution_count": 149,
     "metadata": {},
     "output_type": "execute_result"
    }
   ],
   "source": [
    "count"
   ]
  },
  {
   "cell_type": "code",
   "execution_count": 105,
   "id": "5e2fba22",
   "metadata": {
    "ExecuteTime": {
     "end_time": "2022-04-04T14:10:03.114143Z",
     "start_time": "2022-04-04T14:10:01.100757Z"
    }
   },
   "outputs": [
    {
     "name": "stdout",
     "output_type": "stream",
     "text": [
      "54\n"
     ]
    }
   ],
   "source": [
    "ref_set = {i for ref in annotations_root.xpath(f\"//@Ref\") for i in ref[1:-1].split(\" \")}\n",
    "subjref_set = {i for ref in annotations_root.xpath(f\"//@SubjRef\") for i in ref[1:-1].split(\" \")}\n",
    "frame_set = {\n",
    "    k\n",
    "    for n in annotations_root.xpath(f\"//node[@Frame]\")\n",
    "    for k in [\n",
    "        i for ids in n.attrib[\"Frame\"][1:-1].split(\" \")\n",
    "        for i in ids[3:].split(\";\") if i\n",
    "    ] \n",
    "}\n",
    "mapping_morph_set = set(mappings_root.xpath(f\"//m/@morphId\"))\n",
    "grooves_set = ref_set | subjref_set | frame_set\n",
    "\n",
    "print(len(grooves_set) - len(morph_set & grooves_set))"
   ]
  },
  {
   "cell_type": "code",
   "execution_count": 110,
   "id": "e7e89924",
   "metadata": {
    "ExecuteTime": {
     "end_time": "2022-04-04T14:15:23.312882Z",
     "start_time": "2022-04-04T14:15:23.310743Z"
    }
   },
   "outputs": [
    {
     "name": "stdout",
     "output_type": "stream",
     "text": [
      "<m n=\"010010010011\" marble=\"00100100100002\" morphId=\"010010010011\"/>\n",
      "  \n"
     ]
    }
   ],
   "source": [
    "for m in mappings_root:\n",
    "    etree.dump(m)\n",
    "    break"
   ]
  },
  {
   "cell_type": "code",
   "execution_count": 116,
   "id": "27f59380",
   "metadata": {
    "ExecuteTime": {
     "end_time": "2022-04-04T14:22:41.368846Z",
     "start_time": "2022-04-04T14:22:40.813901Z"
    }
   },
   "outputs": [],
   "source": [
    "mappings_dict_oshb = {\n",
    "    m.attrib[\"n\"]: {\n",
    "        \"marble\": \"\" if not \"marble\" in m.attrib else m.attrib[\"marble\"],\n",
    "        \"morphId\": \"\" if not \"morph\" in m.attrib else m.attrib[\"morphId\"]\n",
    "    }\n",
    "    for m in mappings_root\n",
    "}"
   ]
  },
  {
   "cell_type": "code",
   "execution_count": 115,
   "id": "c8428bff",
   "metadata": {
    "ExecuteTime": {
     "end_time": "2022-04-04T14:22:32.054242Z",
     "start_time": "2022-04-04T14:22:31.351484Z"
    }
   },
   "outputs": [],
   "source": [
    "mappings_dict_morphId = {\n",
    "    m.attrib[\"morphId\"]: {\n",
    "        \"oshb\": m.attrib[\"n\"],\n",
    "        \"marble\": \"\" if not \"marble\" in m.attrib else m.attrib[\"marble\"]\n",
    "    }\n",
    "    for m in mappings_root if \"morphId\" in m.attrib\n",
    "}"
   ]
  },
  {
   "cell_type": "code",
   "execution_count": 134,
   "id": "99d6632b",
   "metadata": {
    "ExecuteTime": {
     "end_time": "2022-04-04T14:40:42.385665Z",
     "start_time": "2022-04-04T14:40:42.326200Z"
    }
   },
   "outputs": [],
   "source": [
    "a = sorted(grooves_set - morph_set)"
   ]
  },
  {
   "cell_type": "code",
   "execution_count": 136,
   "id": "46fe2828",
   "metadata": {
    "ExecuteTime": {
     "end_time": "2022-04-04T14:41:09.882462Z",
     "start_time": "2022-04-04T14:41:09.873839Z"
    }
   },
   "outputs": [],
   "source": [
    "for i in a:\n",
    "    if i in mappings_dict_morphId:\n",
    "        print(i)"
   ]
  }
 ],
 "metadata": {
  "kernelspec": {
   "display_name": "Python 3 (ipykernel)",
   "language": "python",
   "name": "python3"
  },
  "language_info": {
   "codemirror_mode": {
    "name": "ipython",
    "version": 3
   },
   "file_extension": ".py",
   "mimetype": "text/x-python",
   "name": "python",
   "nbconvert_exporter": "python",
   "pygments_lexer": "ipython3",
   "version": "3.9.7"
  },
  "latex_envs": {
   "LaTeX_envs_menu_present": true,
   "autoclose": false,
   "autocomplete": true,
   "bibliofile": "biblio.bib",
   "cite_by": "apalike",
   "current_citInitial": 1,
   "eqLabelWithNumbers": true,
   "eqNumInitial": 1,
   "hotkeys": {
    "equation": "Ctrl-E",
    "itemize": "Ctrl-I"
   },
   "labels_anchors": false,
   "latex_user_defs": false,
   "report_style_numbering": false,
   "user_envs_cfg": false
  }
 },
 "nbformat": 4,
 "nbformat_minor": 5
}
